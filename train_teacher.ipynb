{
 "cells": [
  {
   "cell_type": "code",
   "execution_count": 1,
   "metadata": {
    "execution": {
     "iopub.execute_input": "2025-04-09T10:35:17.726402Z",
     "iopub.status.busy": "2025-04-09T10:35:17.726044Z",
     "iopub.status.idle": "2025-04-09T10:35:36.935474Z",
     "shell.execute_reply": "2025-04-09T10:35:36.934770Z",
     "shell.execute_reply.started": "2025-04-09T10:35:17.726370Z"
    },
    "trusted": true
   },
   "outputs": [],
   "source": [
    "import argparse\n",
    "import networkx as nx\n",
    "import torch\n",
    "import torch.nn as nn\n",
    "from torch_geometric.nn import GCNConv"
   ]
  },
  {
   "cell_type": "markdown",
   "metadata": {},
   "source": [
    "### TODO:\n",
    "Implement teacher network architecture and training along with flags for datasets and teacher model architecture (Chanikya and Nithin)\n",
    "eg: python3 train_teacher.py --dataset=cora --model=SAGE --epochs-100 --lr=0.01 . Add flags for other hyperparameters if necessary (Chanikya and Nithin)\n",
    "\n",
    "Other teacher model architectures - GCN, GAT, APPNP (Chanikya and Nithin + others based on availability)"
   ]
  },
  {
   "cell_type": "code",
   "execution_count": 2,
   "metadata": {
    "execution": {
     "iopub.execute_input": "2025-04-09T10:35:36.937182Z",
     "iopub.status.busy": "2025-04-09T10:35:36.936671Z",
     "iopub.status.idle": "2025-04-09T10:35:39.225270Z",
     "shell.execute_reply": "2025-04-09T10:35:39.223515Z",
     "shell.execute_reply.started": "2025-04-09T10:35:36.937148Z"
    },
    "trusted": true
   },
   "outputs": [
    {
     "name": "stdout",
     "output_type": "stream",
     "text": [
      "Dataset: Cora():\n",
      "======================\n",
      "Number of graphs: 1\n",
      "Number of features: 1433\n",
      "Number of classes: 7\n"
     ]
    }
   ],
   "source": [
    "from torch_geometric.datasets import Planetoid\n",
    "dataset = Planetoid(root='./Cora', name='Cora')\n",
    "\n",
    "data = dataset[0]\n",
    "print(f'Dataset: {dataset}:')\n",
    "print('======================')\n",
    "print(f'Number of graphs: {len(dataset)}')\n",
    "print(f'Number of features: {dataset.num_features}')\n",
    "print(f'Number of classes: {dataset.num_classes}')"
   ]
  },
  {
   "cell_type": "raw",
   "metadata": {},
   "source": [
    "TODO: \n",
    "1. Standardise(lcc)\n",
    "2. binarize labels(dealing with multi labels)\n",
    "3. for now only worksfor cpf, extenf to ogb"
   ]
  },
  {
   "cell_type": "code",
   "execution_count": 3,
   "metadata": {
    "execution": {
     "iopub.execute_input": "2025-04-09T10:35:56.152026Z",
     "iopub.status.busy": "2025-04-09T10:35:56.151491Z",
     "iopub.status.idle": "2025-04-09T10:35:56.155578Z",
     "shell.execute_reply": "2025-04-09T10:35:56.154748Z",
     "shell.execute_reply.started": "2025-04-09T10:35:56.151996Z"
    },
    "trusted": true
   },
   "outputs": [],
   "source": [
    "# data.edge_index.t()"
   ]
  },
  {
   "cell_type": "code",
   "execution_count": 4,
   "metadata": {
    "execution": {
     "iopub.execute_input": "2025-04-09T10:35:56.482235Z",
     "iopub.status.busy": "2025-04-09T10:35:56.481928Z",
     "iopub.status.idle": "2025-04-09T10:35:56.487702Z",
     "shell.execute_reply": "2025-04-09T10:35:56.486914Z",
     "shell.execute_reply.started": "2025-04-09T10:35:56.482213Z"
    },
    "trusted": true
   },
   "outputs": [],
   "source": [
    "def load_data(dataset):\n",
    "    if dataset == \"cora\":\n",
    "        dataset = Planetoid(root='./Cora', name='Cora')\n",
    "        data = dataset[0]\n",
    "        graph_nx = nx.Graph()\n",
    "        graph_nx.add_edges_from(data.edge_index.t().tolist())\n",
    "\n",
    "        # Adding self-loops\n",
    "        # graph_nx.add_edges_from((n, n) for n in graph_nx.nodes())\n",
    "        \n",
    "        # adj_tensor = torch.tensor(nx.to_numpy_array(graph_nx), dtype=torch.float).to('cuda')\n",
    "        features = data.x\n",
    "        labels = data.y\n",
    "\n",
    "        train_idx = data.train_mask.nonzero(as_tuple=True)[0]\n",
    "        val_idx = data.val_mask.nonzero(as_tuple=True)[0]\n",
    "        test_idx = data.test_mask.nonzero(as_tuple=True)[0]\n",
    "        \n",
    "        return data.edge_index, features, labels, data.train_mask, data.val_mask, data.test_mask"
   ]
  },
  {
   "cell_type": "code",
   "execution_count": 19,
   "metadata": {
    "execution": {
     "iopub.execute_input": "2025-04-09T10:35:57.797403Z",
     "iopub.status.busy": "2025-04-09T10:35:57.797045Z",
     "iopub.status.idle": "2025-04-09T10:35:57.836105Z",
     "shell.execute_reply": "2025-04-09T10:35:57.835207Z",
     "shell.execute_reply.started": "2025-04-09T10:35:57.797372Z"
    },
    "trusted": true
   },
   "outputs": [
    {
     "name": "stdout",
     "output_type": "stream",
     "text": [
      "tensor(500)\n"
     ]
    }
   ],
   "source": [
    "cnt = 0\n",
    "140+1000+500\n",
    "2708\n",
    "for x in data.val_mask:\n",
    "    cnt += (x==True)\n",
    "print(cnt)"
   ]
  },
  {
   "cell_type": "markdown",
   "metadata": {},
   "source": [
    "GCN => num layers, hidden, input dim, out, dp, activa,  "
   ]
  },
  {
   "cell_type": "code",
   "execution_count": 20,
   "metadata": {
    "execution": {
     "iopub.execute_input": "2025-04-09T10:54:06.884942Z",
     "iopub.status.busy": "2025-04-09T10:54:06.884606Z",
     "iopub.status.idle": "2025-04-09T10:54:06.892709Z",
     "shell.execute_reply": "2025-04-09T10:54:06.891800Z",
     "shell.execute_reply.started": "2025-04-09T10:54:06.884920Z"
    },
    "trusted": true
   },
   "outputs": [],
   "source": [
    "class GCN(nn.Module):\n",
    "    def __init__(\n",
    "        self,\n",
    "        num_layers,\n",
    "        input_dim,\n",
    "        hidden_dim,\n",
    "        output_dim,\n",
    "        dropout_ratio,\n",
    "        activation,\n",
    "        norm_type=\"none\"\n",
    "    ):\n",
    "        super().__init__()\n",
    "        self.num_layers = num_layers\n",
    "        self.norm_type = norm_type\n",
    "        self.dropout = nn.Dropout(dropout_ratio)\n",
    "        self.activation = activation\n",
    "\n",
    "        self.layers = nn.ModuleList()\n",
    "        self.norms = nn.ModuleList()\n",
    "\n",
    "        if num_layers == 1:\n",
    "            self.layers.append(GCNConv(input_dim, output_dim))\n",
    "        else:\n",
    "            self.layers.append(GCNConv(input_dim, hidden_dim))\n",
    "            if norm_type == \"batch\":\n",
    "                self.norms.append(nn.BatchNorm1d(hidden_dim))\n",
    "            elif norm_type == \"layer\":\n",
    "                self.norms.append(nn.LayerNorm(hidden_dim))\n",
    "\n",
    "            for _ in range(num_layers - 2):\n",
    "                self.layers.append(GCNConv(hidden_dim, hidden_dim))\n",
    "                if norm_type == \"batch\":\n",
    "                    self.norms.append(nn.BatchNorm1d(hidden_dim))\n",
    "                elif norm_type == \"layer\":\n",
    "                    self.norms.append(nn.LayerNorm(hidden_dim))\n",
    "\n",
    "            self.layers.append(GCNConv(hidden_dim, output_dim))\n",
    "\n",
    "    def forward(self, x, edge_index):\n",
    "        h_list = []\n",
    "        h = x\n",
    "        for l, layer in enumerate(self.layers):\n",
    "            h = layer(h, edge_index)\n",
    "            if l != self.num_layers - 1:\n",
    "                if self.norm_type != \"none\":\n",
    "                    h = self.norms[l](h)\n",
    "                h = self.activation(h)\n",
    "                h = self.dropout(h)\n",
    "                h_list.append(h)\n",
    "        return h_list[-1], h"
   ]
  },
  {
   "cell_type": "code",
   "execution_count": 21,
   "metadata": {},
   "outputs": [],
   "source": [
    "model = GCN(\n",
    "    num_layers=3,\n",
    "    input_dim=dataset.num_node_features,\n",
    "    hidden_dim=64,\n",
    "    output_dim=dataset.num_classes,\n",
    "    dropout_ratio=0.8,\n",
    "    activation=nn.functional.relu,\n",
    "    norm_type=\"none\"\n",
    ")"
   ]
  },
  {
   "cell_type": "code",
   "execution_count": 24,
   "metadata": {
    "execution": {
     "iopub.execute_input": "2025-04-09T10:55:10.936625Z",
     "iopub.status.busy": "2025-04-09T10:55:10.936231Z",
     "iopub.status.idle": "2025-04-09T10:55:10.941872Z",
     "shell.execute_reply": "2025-04-09T10:55:10.941082Z",
     "shell.execute_reply.started": "2025-04-09T10:55:10.936593Z"
    },
    "trusted": true
   },
   "outputs": [],
   "source": [
    "def train(model, data, edge_index, labels, train_idx, optimizer, criterion):\n",
    "    model.train()\n",
    "    optimizer.zero_grad()\n",
    "    _, out = model(data, edge_index)\n",
    "    loss = criterion(out[train_idx], labels[train_idx])\n",
    "    loss.backward()\n",
    "    optimizer.step()\n",
    "    return loss.item()\n",
    "\n",
    "@torch.no_grad()\n",
    "def evaluate(model, data, edge_index, labels, idx):\n",
    "    model.eval()\n",
    "    _, out = model(data, edge_index)\n",
    "    pred = out[idx].argmax(dim=1)\n",
    "    correct = (pred == labels[idx]).sum().item()\n",
    "    acc = correct / sum(idx)\n",
    "    return acc"
   ]
  },
  {
   "cell_type": "code",
   "execution_count": 25,
   "metadata": {
    "execution": {
     "iopub.execute_input": "2025-04-09T11:02:11.817505Z",
     "iopub.status.busy": "2025-04-09T11:02:11.817111Z",
     "iopub.status.idle": "2025-04-09T11:02:18.866503Z",
     "shell.execute_reply": "2025-04-09T11:02:18.865446Z",
     "shell.execute_reply.started": "2025-04-09T11:02:11.817475Z"
    },
    "trusted": true
   },
   "outputs": [
    {
     "name": "stdout",
     "output_type": "stream",
     "text": [
      "Epoch 001 | Loss: 1.9586 | Val Acc: 0.3040 | Test Acc: 0.3320\n",
      "Epoch 010 | Loss: 0.7298 | Val Acc: 0.8260 | Test Acc: 0.8380\n",
      "Epoch 020 | Loss: 0.1006 | Val Acc: 0.7920 | Test Acc: 0.8180\n",
      "Epoch 030 | Loss: 0.1016 | Val Acc: 0.7940 | Test Acc: 0.8050\n",
      "Epoch 040 | Loss: 0.0808 | Val Acc: 0.7700 | Test Acc: 0.8010\n",
      "Epoch 050 | Loss: 0.1045 | Val Acc: 0.7840 | Test Acc: 0.8000\n",
      "Epoch 060 | Loss: 0.0610 | Val Acc: 0.7840 | Test Acc: 0.7970\n",
      "Epoch 070 | Loss: 0.0367 | Val Acc: 0.7700 | Test Acc: 0.7830\n",
      "Epoch 080 | Loss: 0.0522 | Val Acc: 0.7880 | Test Acc: 0.8090\n",
      "Epoch 090 | Loss: 0.0806 | Val Acc: 0.7540 | Test Acc: 0.7800\n",
      "Epoch 100 | Loss: 0.0904 | Val Acc: 0.7620 | Test Acc: 0.7930\n",
      "Epoch 110 | Loss: 0.0576 | Val Acc: 0.7600 | Test Acc: 0.8020\n",
      "Epoch 120 | Loss: 0.0235 | Val Acc: 0.7720 | Test Acc: 0.8000\n",
      "Epoch 130 | Loss: 0.0393 | Val Acc: 0.7700 | Test Acc: 0.7980\n",
      "Epoch 140 | Loss: 0.0351 | Val Acc: 0.7640 | Test Acc: 0.7990\n"
     ]
    }
   ],
   "source": [
    "edge_index, features, labels, train_idx, val_idx, test_idx = load_data(\"cora\")\n",
    "model = GCN(\n",
    "    num_layers=3,\n",
    "    input_dim=dataset.num_node_features,\n",
    "    hidden_dim=64,\n",
    "    output_dim=dataset.num_classes,\n",
    "    dropout_ratio=0.8,\n",
    "    activation=nn.functional.relu,\n",
    "    norm_type=\"none\"\n",
    ")\n",
    "# model = GCN1(dataset.num_node_features, 64, dataset.num_classes)\n",
    "\n",
    "optimizer = torch.optim.Adam(model.parameters(), lr=0.01, weight_decay=5e-4)\n",
    "criterion = torch.nn.CrossEntropyLoss()\n",
    "\n",
    "for epoch in range(1, 150):\n",
    "    loss = train(model, features, edge_index, labels, train_idx, optimizer, criterion)\n",
    "    val_acc = evaluate(model, features, edge_index, labels, val_idx)\n",
    "    if epoch % 10 == 0 or epoch == 1:\n",
    "        test_acc = evaluate(model, features, edge_index, labels, test_idx)\n",
    "        print(f\"Epoch {epoch:03d} | Loss: {loss:.4f} | Val Acc: {val_acc:.4f} | Test Acc: {test_acc:.4f}\")\n"
   ]
  },
  {
   "cell_type": "code",
   "execution_count": 26,
   "metadata": {},
   "outputs": [
    {
     "name": "stdout",
     "output_type": "stream",
     "text": [
      "torch.Size([2708, 64])\n",
      "torch.Size([2708, 7])\n"
     ]
    }
   ],
   "source": [
    "emb_t, z_soft = model.forward(data.x, data.edge_index)\n",
    "print(emb_t.shape)\n",
    "print(z_soft.shape)"
   ]
  },
  {
   "cell_type": "code",
   "execution_count": 34,
   "metadata": {},
   "outputs": [
    {
     "data": {
      "text/plain": [
       "tensor([-1.8515, -4.1910, -2.3432,  9.2844, -2.0349, -5.1608, -3.0414],\n",
       "       grad_fn=<SelectBackward0>)"
      ]
     },
     "execution_count": 34,
     "metadata": {},
     "output_type": "execute_result"
    }
   ],
   "source": [
    "z_soft[0]"
   ]
  },
  {
   "cell_type": "code",
   "execution_count": 35,
   "metadata": {},
   "outputs": [],
   "source": [
    "# save embeddings, softmax scores tensors above in a directory\n",
    "def save_tensors(emb_t, z_soft, output_dir):\n",
    "    torch.save(emb_t, f\"{output_dir}/embeddings.pt\")\n",
    "    torch.save(z_soft, f\"{output_dir}/label_scores.pt\")\n",
    "# Example usage\n",
    "output_dir = \"./teacher_outputs\"\n",
    "import os\n",
    "if not os.path.exists(output_dir):\n",
    "    os.makedirs(output_dir)\n",
    "save_tensors(emb_t, z_soft, output_dir)"
   ]
  },
  {
   "cell_type": "code",
   "execution_count": 32,
   "metadata": {
    "execution": {
     "iopub.execute_input": "2025-04-09T10:34:45.877456Z",
     "iopub.status.busy": "2025-04-09T10:34:45.877203Z",
     "iopub.status.idle": "2025-04-09T10:34:45.881064Z",
     "shell.execute_reply": "2025-04-09T10:34:45.880425Z",
     "shell.execute_reply.started": "2025-04-09T10:34:45.877435Z"
    },
    "trusted": true
   },
   "outputs": [],
   "source": [
    "# load embeddings, z_soft\n",
    "output_dir = \"./teacher_outputs\"\n",
    "emb_t = torch.load(f\"{output_dir}/embeddings.pt\")\n",
    "z_soft = torch.load(f\"{output_dir}/softmax_scores.pt\")"
   ]
  },
  {
   "cell_type": "code",
   "execution_count": 33,
   "metadata": {},
   "outputs": [
    {
     "data": {
      "text/plain": [
       "(torch.Size([2708, 64]), torch.Size([2708, 7]))"
      ]
     },
     "execution_count": 33,
     "metadata": {},
     "output_type": "execute_result"
    }
   ],
   "source": [
    "emb_t.shape, z_soft.shape"
   ]
  }
 ],
 "metadata": {
  "kaggle": {
   "accelerator": "nvidiaTeslaT4",
   "dataSources": [],
   "dockerImageVersionId": 30918,
   "isGpuEnabled": true,
   "isInternetEnabled": true,
   "language": "python",
   "sourceType": "notebook"
  },
  "kernelspec": {
   "display_name": ".venv",
   "language": "python",
   "name": "python3"
  },
  "language_info": {
   "codemirror_mode": {
    "name": "ipython",
    "version": 3
   },
   "file_extension": ".py",
   "mimetype": "text/x-python",
   "name": "python",
   "nbconvert_exporter": "python",
   "pygments_lexer": "ipython3",
   "version": "3.13.1"
  }
 },
 "nbformat": 4,
 "nbformat_minor": 4
}
