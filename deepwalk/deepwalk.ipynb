{
 "cells": [
  {
   "cell_type": "code",
   "execution_count": 1,
   "id": "ca2f29de",
   "metadata": {},
   "outputs": [],
   "source": [
    "from torch_geometric.datasets import Planetoid\n",
    "import torch_geometric.transforms as T\n",
    "import torch\n",
    "import random\n",
    "import fasttext"
   ]
  },
  {
   "cell_type": "code",
   "execution_count": 2,
   "id": "c0a38308",
   "metadata": {},
   "outputs": [
    {
     "name": "stdout",
     "output_type": "stream",
     "text": [
      "Number of nodes: 2708\n",
      "Number of edges: 10556\n",
      "Number of node features: 1433\n",
      "Number of classes: 7\n"
     ]
    }
   ],
   "source": [
    "# Now data contains:\n",
    "# data.x: Node features\n",
    "# data.edge_index: Graph connectivity\n",
    "# data.y: Node labels\n",
    "# data.train_mask/val_mask/test_mask: Masks for splitting the dataset\n",
    "\n",
    "# Load the CORA dataset\n",
    "dataset = Planetoid(root='../Cora', name='Cora')\n",
    "\n",
    "# Get the data object\n",
    "data = dataset[0]\n",
    "\n",
    "print(f\"Number of nodes: {data.num_nodes}\")\n",
    "print(f\"Number of edges: {data.num_edges}\")\n",
    "print(f\"Number of node features: {data.num_features}\")\n",
    "print(f\"Number of classes: {dataset.num_classes}\")"
   ]
  },
  {
   "cell_type": "code",
   "execution_count": 3,
   "id": "64957afe",
   "metadata": {},
   "outputs": [],
   "source": [
    "import networkx as nx\n",
    "\n",
    "graph_nx = nx.Graph()\n",
    "graph_nx.add_edges_from(data.edge_index.t().tolist())"
   ]
  },
  {
   "cell_type": "code",
   "execution_count": 4,
   "id": "c7a05bbb",
   "metadata": {},
   "outputs": [
    {
     "data": {
      "text/plain": [
       "[1701, 1810]"
      ]
     },
     "execution_count": 4,
     "metadata": {},
     "output_type": "execute_result"
    }
   ],
   "source": [
    "list(graph_nx.neighbors(13))"
   ]
  },
  {
   "cell_type": "code",
   "execution_count": 5,
   "id": "4dc57cb5",
   "metadata": {},
   "outputs": [],
   "source": [
    "class DeepWalk:\n",
    "    def __init__(self, graph, walk_length=80, walks_per_vertex=10):\n",
    "        self.graph = graph\n",
    "        self.walk_length = walk_length\n",
    "        self.walks_per_vertex = walks_per_vertex\n",
    "\n",
    "    def simulate_random_walks(self):\n",
    "        random_walks = []\n",
    "        for _ in range(self.walks_per_vertex):\n",
    "            O = list(self.graph.nodes()).copy()\n",
    "            random.shuffle(O)\n",
    "            for vi in O:\n",
    "                Wvi = self._random_walk(vi)\n",
    "                random_walks.append(Wvi)\n",
    "        return random_walks\n",
    "\n",
    "\n",
    "    def _random_walk(self, start_node):\n",
    "        walk = [start_node]\n",
    "        while len(walk) < self.walk_length:\n",
    "            neighbors = list(self.graph.neighbors(walk[-1]))\n",
    "            if len(neighbors) == 0:\n",
    "                break\n",
    "            next_node = random.choice(neighbors)\n",
    "            walk.append(next_node)\n",
    "        return walk\n",
    "    \n",
    "    def train(self):\n",
    "        sentences = self.simulate_random_walks()\n",
    "        with open(\"walks.txt\", \"w\") as f:\n",
    "            for walk in sentences:\n",
    "                f.write(\" \".join(map(str, walk)) + \"\\n\")\n",
    "        \n",
    "        self.model = fasttext.train_unsupervised(\n",
    "            input='walks.txt',\n",
    "            model='skipgram',\n",
    "            dim=128,\n",
    "            ws=5,\n",
    "            epoch=10,\n",
    "            minCount=0,\n",
    "            neg=0,\n",
    "            loss='hs',\n",
    "            thread=4,\n",
    "            minn=0, maxn=0  # no subwords; pure Word2Vec behavior\n",
    "        )\n",
    "\n",
    "    def get_embedding(self, node):\n",
    "        # Get the embedding for a specific node\n",
    "        return self.model.get_word_vector(str(node))\n",
    "    \n",
    "    def get_embeddings(self):\n",
    "        # Get tensor embeddings for all nodes\n",
    "        embeddings = []\n",
    "        for node in range(self.graph.number_of_nodes()):\n",
    "            embeddings.append(self.get_embedding(node))\n",
    "        return torch.tensor(embeddings)\n",
    "    "
   ]
  },
  {
   "cell_type": "code",
   "execution_count": 6,
   "id": "67d23e02",
   "metadata": {},
   "outputs": [
    {
     "name": "stderr",
     "output_type": "stream",
     "text": [
      "Read 2M words\n",
      "Number of words:  2709\n",
      "Number of labels: 0\n",
      "Progress: 100.0% words/sec/thread:  127507 lr:  0.000000 avg.loss:  3.684624 ETA:   0h 0m 0s% words/sec/thread:  127637 lr:  0.012114 avg.loss:  3.846483 ETA:   0h 0m10s\n"
     ]
    }
   ],
   "source": [
    "deepwalk_model = DeepWalk(graph_nx, walk_length=80, walks_per_vertex=10)\n",
    "deepwalk_model.train()"
   ]
  },
  {
   "cell_type": "code",
   "execution_count": 8,
   "id": "7166aadf",
   "metadata": {},
   "outputs": [
    {
     "data": {
      "text/plain": [
       "torch.Size([2708, 128])"
      ]
     },
     "execution_count": 8,
     "metadata": {},
     "output_type": "execute_result"
    }
   ],
   "source": [
    "positional_embeddings = deepwalk_model.get_embeddings()\n",
    "positional_embeddings.shape"
   ]
  },
  {
   "cell_type": "code",
   "execution_count": null,
   "id": "e262e098",
   "metadata": {},
   "outputs": [],
   "source": [
    "\n",
    "def RandomWalk(G, v, walk_length):\n",
    "    walk = [v]\n",
    "    while len(walk) < walk_length:\n",
    "        neighbors = list(G.neighbors(v))\n",
    "        if not neighbors:\n",
    "            break\n",
    "        v = random.choice(neighbors)\n",
    "        walk.append(v)\n",
    "    \n",
    "    return walk\n",
    "\n",
    "def deeepwalk(graph_nx, walk_length, walks_per_node):\n",
    "    num_nodes = graph_nx.number_of_nodes()\n",
    "    random_walks = []\n",
    "    for i in range(walks_per_node):\n",
    "        O = list(graph_nx.nodes()).copy()\n",
    "        random.shuffle(O)\n",
    "        for vi in O:\n",
    "            Wvi = RandomWalk(graph_nx, vi, walk_length)\n",
    "            random_walks.append(Wvi)\n",
    "    return random_walks"
   ]
  },
  {
   "cell_type": "code",
   "execution_count": 6,
   "id": "6bbe7fef",
   "metadata": {},
   "outputs": [],
   "source": [
    "sentences = deeepwalk(graph_nx, walk_length=80, walks_per_node=10)"
   ]
  },
  {
   "cell_type": "code",
   "execution_count": 7,
   "id": "ee181189",
   "metadata": {},
   "outputs": [
    {
     "data": {
      "text/plain": [
       "27080"
      ]
     },
     "execution_count": 7,
     "metadata": {},
     "output_type": "execute_result"
    }
   ],
   "source": [
    "len(sentences)"
   ]
  },
  {
   "cell_type": "code",
   "execution_count": 10,
   "id": "73c29bfe",
   "metadata": {},
   "outputs": [],
   "source": [
    "# Save walks to a file\n",
    "with open(\"walks.txt\", \"w\") as f:\n",
    "    for walk in sentences:\n",
    "        f.write(\" \".join(map(str, walk)) + \"\\n\")"
   ]
  },
  {
   "cell_type": "code",
   "execution_count": 11,
   "id": "23d5a74e",
   "metadata": {},
   "outputs": [
    {
     "name": "stderr",
     "output_type": "stream",
     "text": [
      "Read 2M words\n",
      "Number of words:  2709\n",
      "Number of labels: 0\n",
      "Progress:  99.5% words/sec/thread:  129125 lr:  0.000235 avg.loss:  3.681745 ETA:   0h 0m 0s"
     ]
    },
    {
     "name": "stdout",
     "output_type": "stream",
     "text": [
      "(128,)\n"
     ]
    },
    {
     "name": "stderr",
     "output_type": "stream",
     "text": [
      "Progress: 100.0% words/sec/thread:  129123 lr:  0.000000 avg.loss:  3.678913 ETA:   0h 0m 0s\n"
     ]
    }
   ],
   "source": [
    "import fasttext\n",
    "\n",
    "model = fasttext.train_unsupervised(\n",
    "    input='walks.txt',\n",
    "    model='skipgram',\n",
    "    dim=128,\n",
    "    ws=5,\n",
    "    epoch=10,\n",
    "    minCount=0,\n",
    "    neg=0,\n",
    "    loss='hs',\n",
    "    thread=4,\n",
    "    minn=0, maxn=0  # no subwords; pure Word2Vec behavior\n",
    ")\n",
    "\n",
    "# Get vector for node 2\n",
    "vector = model.get_word_vector(\"2\")\n",
    "print(vector.shape)"
   ]
  },
  {
   "cell_type": "code",
   "execution_count": 12,
   "id": "e4a66420",
   "metadata": {},
   "outputs": [
    {
     "data": {
      "text/plain": [
       "array([ 0.420978  ,  0.95378906, -0.1145293 , -0.19586547, -1.111248  ,\n",
       "       -0.12487523, -0.1074683 , -0.05572588, -0.3279791 ,  0.08617289,\n",
       "        0.10043468, -0.17231548, -0.2068229 ,  0.16711785, -0.03114433,\n",
       "        0.5348437 , -0.02211843,  0.3208544 ,  0.06389198,  0.23906097,\n",
       "        0.12849578,  0.5572322 ,  0.11254846, -0.06604139, -0.19831258,\n",
       "        0.25256032, -0.75322276, -0.22516152, -0.2011957 ,  0.03793957,\n",
       "        0.15414782,  0.68152004,  0.49336407,  0.028886  , -0.11230045,\n",
       "        0.73488563, -0.40916163,  0.47960782, -0.30062157, -0.17928393,\n",
       "       -0.08143311,  0.42212301, -0.6491701 ,  0.545988  , -0.31842914,\n",
       "       -0.45619762, -0.27366212,  0.08842868, -0.25591105,  0.00456483,\n",
       "       -0.10767275,  0.5368203 , -0.2657282 ,  0.0553051 , -0.15006621,\n",
       "       -0.14413643, -0.7105219 , -0.15023999, -0.72897005,  0.5058041 ,\n",
       "        0.41935825,  0.52716   , -0.277185  , -0.40046233, -1.1755383 ,\n",
       "        0.1299369 ,  0.09509454, -0.3268316 ,  0.16994508,  0.12679899,\n",
       "        0.5741286 ,  0.18574087, -0.01185106, -0.29841357, -0.08607077,\n",
       "       -0.631378  , -0.37669986,  0.08980738,  0.44885936, -0.22269762,\n",
       "        0.06650632, -0.08580536, -0.22886413,  0.6868307 , -0.19333409,\n",
       "       -0.69001305, -0.03220888, -0.11111216,  0.00380593,  0.36711177,\n",
       "        0.14757864, -0.51944166,  0.67456186,  0.24812667,  0.14068584,\n",
       "       -0.5350452 , -0.2034978 , -0.04628532, -0.5345669 , -0.78970635,\n",
       "       -0.6859539 , -0.46926552, -0.36405778, -0.84717983,  0.20565608,\n",
       "       -0.605507  ,  0.47688472,  0.09875032,  0.75621265, -0.45302093,\n",
       "        0.5816674 ,  0.14841498,  0.38166556,  0.16899066, -0.22820716,\n",
       "       -0.01533117, -0.04940885, -0.5459625 ,  0.06264307, -0.35391456,\n",
       "       -0.34572366,  0.4118174 , -0.01070451,  0.19010893, -0.26681283,\n",
       "       -0.21253724,  1.1873189 ,  0.26836467], dtype=float32)"
      ]
     },
     "execution_count": 12,
     "metadata": {},
     "output_type": "execute_result"
    }
   ],
   "source": [
    "model.get_word_vector(\"0\")"
   ]
  },
  {
   "cell_type": "code",
   "execution_count": 13,
   "id": "d6b28605",
   "metadata": {},
   "outputs": [
    {
     "data": {
      "text/plain": [
       "['__class__',\n",
       " '__contains__',\n",
       " '__delattr__',\n",
       " '__dict__',\n",
       " '__dir__',\n",
       " '__doc__',\n",
       " '__eq__',\n",
       " '__firstlineno__',\n",
       " '__format__',\n",
       " '__ge__',\n",
       " '__getattribute__',\n",
       " '__getitem__',\n",
       " '__getstate__',\n",
       " '__gt__',\n",
       " '__hash__',\n",
       " '__init__',\n",
       " '__init_subclass__',\n",
       " '__le__',\n",
       " '__lt__',\n",
       " '__module__',\n",
       " '__ne__',\n",
       " '__new__',\n",
       " '__reduce__',\n",
       " '__reduce_ex__',\n",
       " '__repr__',\n",
       " '__setattr__',\n",
       " '__sizeof__',\n",
       " '__static_attributes__',\n",
       " '__str__',\n",
       " '__subclasshook__',\n",
       " '__weakref__',\n",
       " '_labels',\n",
       " '_words',\n",
       " 'bucket',\n",
       " 'dim',\n",
       " 'epoch',\n",
       " 'f',\n",
       " 'get_analogies',\n",
       " 'get_dimension',\n",
       " 'get_input_matrix',\n",
       " 'get_input_vector',\n",
       " 'get_label_id',\n",
       " 'get_labels',\n",
       " 'get_line',\n",
       " 'get_meter',\n",
       " 'get_nearest_neighbors',\n",
       " 'get_output_matrix',\n",
       " 'get_sentence_vector',\n",
       " 'get_subword_id',\n",
       " 'get_subwords',\n",
       " 'get_word_id',\n",
       " 'get_word_vector',\n",
       " 'get_words',\n",
       " 'is_quantized',\n",
       " 'label',\n",
       " 'labels',\n",
       " 'loss',\n",
       " 'lr',\n",
       " 'lrUpdateRate',\n",
       " 'maxn',\n",
       " 'minCount',\n",
       " 'minCountLabel',\n",
       " 'minn',\n",
       " 'neg',\n",
       " 'predict',\n",
       " 'pretrainedVectors',\n",
       " 'quantize',\n",
       " 'save_model',\n",
       " 'set_args',\n",
       " 'set_matrices',\n",
       " 't',\n",
       " 'test',\n",
       " 'test_label',\n",
       " 'thread',\n",
       " 'verbose',\n",
       " 'wordNgrams',\n",
       " 'words',\n",
       " 'ws']"
      ]
     },
     "execution_count": 13,
     "metadata": {},
     "output_type": "execute_result"
    }
   ],
   "source": [
    "dir(model)"
   ]
  },
  {
   "cell_type": "code",
   "execution_count": 17,
   "id": "25689e63",
   "metadata": {},
   "outputs": [
    {
     "name": "stderr",
     "output_type": "stream",
     "text": [
      "/var/folders/x9/b2vk17490blb2k_t_8kcf6g80000gp/T/ipykernel_65023/1669614500.py:4: UserWarning: Creating a tensor from a list of numpy.ndarrays is extremely slow. Please consider converting the list to a single numpy.ndarray with numpy.array() before converting to a tensor. (Triggered internally at /Users/runner/work/pytorch/pytorch/pytorch/torch/csrc/utils/tensor_new.cpp:257.)\n",
      "  embedding_matrix = torch.tensor(embedding_matrix)\n"
     ]
    },
    {
     "data": {
      "text/plain": [
       "torch.Size([2708, 128])"
      ]
     },
     "execution_count": 17,
     "metadata": {},
     "output_type": "execute_result"
    }
   ],
   "source": [
    "embedding_matrix = []\n",
    "for i in range(data.num_nodes):\n",
    "    embedding_matrix.append(model.get_word_vector(str(i)))\n",
    "embedding_matrix = torch.tensor(embedding_matrix)\n",
    "embedding_matrix.shape"
   ]
  },
  {
   "cell_type": "code",
   "execution_count": null,
   "id": "a2bc77d7",
   "metadata": {},
   "outputs": [],
   "source": []
  }
 ],
 "metadata": {
  "kernelspec": {
   "display_name": ".venv",
   "language": "python",
   "name": "python3"
  },
  "language_info": {
   "codemirror_mode": {
    "name": "ipython",
    "version": 3
   },
   "file_extension": ".py",
   "mimetype": "text/x-python",
   "name": "python",
   "nbconvert_exporter": "python",
   "pygments_lexer": "ipython3",
   "version": "3.13.1"
  }
 },
 "nbformat": 4,
 "nbformat_minor": 5
}
