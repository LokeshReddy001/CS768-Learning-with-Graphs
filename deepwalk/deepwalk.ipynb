{
 "cells": [
  {
   "cell_type": "code",
   "execution_count": 5,
   "id": "ca2f29de",
   "metadata": {},
   "outputs": [],
   "source": [
    "from torch_geometric.datasets import Planetoid\n",
    "\n",
    "import torch_geometric.transforms as T\n",
    "\n",
    "# Load the CORA dataset\n",
    "dataset = Planetoid(root='../Cora', name='Cora')\n",
    "\n",
    "# Get the data object\n",
    "data = dataset[0]"
   ]
  },
  {
   "cell_type": "code",
   "execution_count": 6,
   "id": "c0a38308",
   "metadata": {},
   "outputs": [
    {
     "name": "stdout",
     "output_type": "stream",
     "text": [
      "Number of nodes: 2708\n",
      "Number of edges: 10556\n",
      "Number of node features: 1433\n",
      "Number of classes: 7\n"
     ]
    }
   ],
   "source": [
    "# Now data contains:\n",
    "# data.x: Node features\n",
    "# data.edge_index: Graph connectivity\n",
    "# data.y: Node labels\n",
    "# data.train_mask/val_mask/test_mask: Masks for splitting the dataset\n",
    "\n",
    "print(f\"Number of nodes: {data.num_nodes}\")\n",
    "print(f\"Number of edges: {data.num_edges}\")\n",
    "print(f\"Number of node features: {data.num_features}\")\n",
    "print(f\"Number of classes: {dataset.num_classes}\")"
   ]
  },
  {
   "cell_type": "code",
   "execution_count": 7,
   "id": "64957afe",
   "metadata": {},
   "outputs": [],
   "source": [
    "import networkx as nx\n",
    "\n",
    "graph_nx = nx.Graph()\n",
    "graph_nx.add_edges_from(data.edge_index.t().tolist())"
   ]
  },
  {
   "cell_type": "code",
   "execution_count": 8,
   "id": "c7a05bbb",
   "metadata": {},
   "outputs": [
    {
     "data": {
      "text/plain": [
       "[1701, 1810]"
      ]
     },
     "execution_count": 8,
     "metadata": {},
     "output_type": "execute_result"
    }
   ],
   "source": [
    "list(graph_nx.neighbors(13))"
   ]
  },
  {
   "cell_type": "code",
   "execution_count": 9,
   "id": "e262e098",
   "metadata": {},
   "outputs": [],
   "source": [
    "import torch\n",
    "import random\n",
    "\n",
    "\n",
    "def RandomWalk(G, v, walk_length):\n",
    "    walk = [v]\n",
    "    while len(walk) < walk_length:\n",
    "        neighbors = list(G.neighbors(v))\n",
    "        if not neighbors:\n",
    "            break\n",
    "        v = random.choice(neighbors)\n",
    "        walk.append(v)\n",
    "    \n",
    "    return walk\n",
    "\n",
    "def deeepwalk(graph_nx, walk_length, walks_per_node):\n",
    "    num_nodes = graph_nx.number_of_nodes()\n",
    "    random_walks = []\n",
    "    for i in range(walks_per_node):\n",
    "        O = list(graph_nx.nodes()).copy()\n",
    "        random.shuffle(O)\n",
    "        for vi in O:\n",
    "            Wvi = RandomWalk(graph_nx, vi, walk_length)\n",
    "            random_walks.append(Wvi)\n",
    "    return random_walks"
   ]
  },
  {
   "cell_type": "code",
   "execution_count": 10,
   "id": "6bbe7fef",
   "metadata": {},
   "outputs": [],
   "source": [
    "sentences = deeepwalk(graph_nx, walk_length=10, walks_per_node=5)"
   ]
  },
  {
   "cell_type": "code",
   "execution_count": 11,
   "id": "ee181189",
   "metadata": {},
   "outputs": [
    {
     "data": {
      "text/plain": [
       "13540"
      ]
     },
     "execution_count": 11,
     "metadata": {},
     "output_type": "execute_result"
    }
   ],
   "source": [
    "len(sentences)"
   ]
  },
  {
   "cell_type": "code",
   "execution_count": 12,
   "id": "73c29bfe",
   "metadata": {},
   "outputs": [],
   "source": [
    "# Save walks to a file\n",
    "with open(\"walks.txt\", \"w\") as f:\n",
    "    for walk in sentences:\n",
    "        f.write(\" \".join(map(str, walk)) + \"\\n\")\n"
   ]
  },
  {
   "cell_type": "code",
   "execution_count": 13,
   "id": "23d5a74e",
   "metadata": {},
   "outputs": [
    {
     "name": "stderr",
     "output_type": "stream",
     "text": [
      "Read 0M words\n",
      "Number of words:  2709\n",
      "Number of labels: 0\n",
      "Progress:  94.0% words/sec/thread:  177998 lr:  0.003017 avg.loss:  3.645911 ETA:   0h 0m 0s"
     ]
    },
    {
     "name": "stdout",
     "output_type": "stream",
     "text": [
      "(128,)\n"
     ]
    },
    {
     "name": "stderr",
     "output_type": "stream",
     "text": [
      "Progress: 100.0% words/sec/thread:  171212 lr:  0.000000 avg.loss:  3.624417 ETA:   0h 0m 0s\n"
     ]
    }
   ],
   "source": [
    "import fasttext\n",
    "\n",
    "model = fasttext.train_unsupervised(\n",
    "    input='walks.txt',\n",
    "    model='skipgram',\n",
    "    dim=128,\n",
    "    ws=5,\n",
    "    epoch=10,\n",
    "    minCount=0,\n",
    "    neg=0,\n",
    "    loss='hs',\n",
    "    thread=4,\n",
    "    minn=0, maxn=0  # no subwords; pure Word2Vec behavior\n",
    ")\n",
    "\n",
    "# Get vector for node 2\n",
    "vector = model.get_word_vector(\"2\")\n",
    "print(vector.shape)"
   ]
  },
  {
   "cell_type": "code",
   "execution_count": 14,
   "id": "e4a66420",
   "metadata": {},
   "outputs": [
    {
     "data": {
      "text/plain": [
       "array([-0.03472757,  0.6215284 ,  0.28486943, -0.72974044, -0.00990918,\n",
       "       -0.42335024,  0.08379763,  0.81374973, -0.11037952, -0.16239147,\n",
       "        0.18493341,  0.3711851 ,  0.43720156, -0.5358561 , -0.3020294 ,\n",
       "        0.21139073,  0.30173165, -0.47209182, -0.47215852,  0.17773363,\n",
       "        0.6400696 ,  0.03976898,  0.23814403, -0.8673644 ,  1.2291881 ,\n",
       "       -0.60600835,  0.27004325, -0.01542067,  0.15250923, -0.06684037,\n",
       "        0.11416901, -0.22817133, -0.45182028,  0.5675845 ,  0.26174116,\n",
       "       -0.3990684 ,  0.50900084, -1.0375887 , -0.21104032,  0.04796304,\n",
       "        0.57274956, -0.53301686,  0.30129686, -0.5607405 , -0.37655148,\n",
       "       -0.03341389,  0.19673863, -0.5518809 ,  0.59004873,  0.4023021 ,\n",
       "        0.2717514 ,  0.77717394,  0.03416823,  0.6869815 , -0.18897021,\n",
       "       -0.7234986 , -0.29557973, -0.05016053,  0.5464305 ,  0.14230795,\n",
       "       -0.06687036, -0.41236076,  0.75588274, -0.01745494,  0.00138288,\n",
       "        0.2882936 , -0.20061965,  0.22463915,  0.6639795 ,  0.26001108,\n",
       "        0.86233175, -0.6185953 ,  0.2516607 , -0.15610039, -0.36478367,\n",
       "       -0.6527055 , -0.21927622, -0.11070317,  0.2154483 ,  0.99045044,\n",
       "        0.09728958, -0.33511186,  0.01098613, -0.400907  ,  0.4748169 ,\n",
       "       -0.44747266, -0.10022844,  0.18367104, -0.11094569, -0.04189165,\n",
       "        0.2863022 , -0.82448137,  0.42725044, -0.01259354, -0.44858444,\n",
       "       -0.36894095,  0.36978012,  0.7360697 ,  0.6864908 , -0.37760022,\n",
       "       -0.00870632,  0.6523208 , -0.7106484 ,  0.20115535,  0.08937969,\n",
       "        0.62008476, -0.18421781, -0.13818201, -0.14256641, -0.09529333,\n",
       "        0.52626425,  0.18228984, -0.04158759,  0.31589356, -0.2152565 ,\n",
       "       -0.29399344,  0.08097114,  1.3333758 , -0.07881058,  0.11063459,\n",
       "        0.11243472, -0.14835036,  0.84794086, -0.4451961 ,  0.26906192,\n",
       "       -0.05379438,  0.08622842, -0.2146878 ], dtype=float32)"
      ]
     },
     "execution_count": 14,
     "metadata": {},
     "output_type": "execute_result"
    }
   ],
   "source": [
    "model.get_word_vector(\"0\")"
   ]
  },
  {
   "cell_type": "code",
   "execution_count": null,
   "id": "d6b28605",
   "metadata": {},
   "outputs": [],
   "source": []
  }
 ],
 "metadata": {
  "kernelspec": {
   "display_name": ".venv",
   "language": "python",
   "name": "python3"
  },
  "language_info": {
   "codemirror_mode": {
    "name": "ipython",
    "version": 3
   },
   "file_extension": ".py",
   "mimetype": "text/x-python",
   "name": "python",
   "nbconvert_exporter": "python",
   "pygments_lexer": "ipython3",
   "version": "3.13.1"
  }
 },
 "nbformat": 4,
 "nbformat_minor": 5
}
